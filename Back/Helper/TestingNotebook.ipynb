{
 "cells": [
  {
   "cell_type": "code",
   "execution_count": 3,
   "metadata": {
    "dotnet_interactive": {
     "language": "csharp"
    },
    "polyglot_notebook": {
     "kernelName": "csharp"
    },
    "vscode": {
     "languageId": "polyglot-notebook"
    },
    "ExecuteTime": {
     "end_time": "2023-06-08T12:11:56.293815Z",
     "start_time": "2023-06-08T12:11:56.169865Z"
    }
   },
   "outputs": [],
   "source": [
    "import requests\n",
    "import json"
   ]
  },
  {
   "cell_type": "markdown",
   "source": [
    "POST to register a new user"
   ],
   "metadata": {
    "collapsed": false
   }
  },
  {
   "cell_type": "code",
   "execution_count": null,
   "outputs": [],
   "source": [
    "url = 'localhost:3000/register'\n",
    "body = {\n",
    "    \"username\": \"test\",\n",
    "    \"email\": \"test@mail.com\",\n",
    "    \"password\": \"test\",\n",
    "    \"isAdmin\":\"false\"\n",
    "}\n",
    "headers = {'Content-type': 'application/json', 'Accept': 'text/plain'}\n",
    "r = requests.post(url, data=json.dumps(body), headers=headers)\n",
    "print(r.text)"
   ],
   "metadata": {
    "collapsed": false
   }
  },
  {
   "cell_type": "markdown",
   "source": [],
   "metadata": {
    "collapsed": false
   }
  }
 ],
 "metadata": {
  "language_info": {
   "name": "csharp"
  },
  "orig_nbformat": 4,
  "kernelspec": {
   "name": "python3",
   "language": "python",
   "display_name": "Python 3 (ipykernel)"
  }
 },
 "nbformat": 4,
 "nbformat_minor": 2
}
